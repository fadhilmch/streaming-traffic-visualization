{
 "cells": [
  {
   "cell_type": "code",
   "execution_count": 35,
   "metadata": {},
   "outputs": [],
   "source": [
    "import pykafka\n",
    "import json\n",
    "import tweepy\n",
    "from tweepy import OAuthHandler, Stream\n",
    "from tweepy.streaming import StreamListener\n",
    "import credential"
   ]
  },
  {
   "cell_type": "code",
   "execution_count": 2,
   "metadata": {},
   "outputs": [],
   "source": [
    "with open('credential.json') as f:\n",
    "    data = json.load(f)\n",
    "    api_key = data['twitter_api_key']\n",
    "    api_secret = data['twitter_api_secret']\n",
    "    token = data['twitter_token']\n",
    "    token_secret = data['twitter_token_secret']\n",
    "    app_id = data['app_id']\n",
    "    app_code = data['app_code']"
   ]
  },
  {
   "cell_type": "code",
   "execution_count": 39,
   "metadata": {},
   "outputs": [],
   "source": [
    "#TWITTER API AUTH\n",
    "auth = OAuthHandler(credential.TWITTER_CONSUMER_KEY[0], credential.TWITTER_CONSUMER_SECRET[0])\n",
    "auth.set_access_token(credential.TWITTER_TOKEN[0], credential.TWITTER_TOKEN_SECRET[0])"
   ]
  },
  {
   "cell_type": "code",
   "execution_count": 40,
   "metadata": {},
   "outputs": [],
   "source": [
    "api = tweepy.API(auth)"
   ]
  },
  {
   "cell_type": "code",
   "execution_count": 41,
   "metadata": {},
   "outputs": [],
   "source": [
    "#Twitter Stream Listener\n",
    "class KafkaPushListener(StreamListener):          \n",
    "    def __init__(self):\n",
    "        #localhost:9092 = Default Zookeeper Producer Host and Port Adresses\n",
    "        self.client = pykafka.KafkaClient(\"localhost:9092\")\n",
    "\n",
    "        #Get Producer that has topic name is Twitter\n",
    "        self.producer = self.client.topics[bytes(\"tweet1\", \"ascii\")].get_producer()\n",
    "  \n",
    "    def on_data(self, data):\n",
    "        #Producer produces data for consumer\n",
    "        #Data comes from Twitter\n",
    "        self.producer.produce(bytes(data, \"ascii\"))\n",
    "        print(len(data))\n",
    "#         print(data)\n",
    "        return True\n",
    "                                                                                                                                           \n",
    "    def on_error(self, status):\n",
    "        print(status)\n",
    "        return True"
   ]
  },
  {
   "cell_type": "code",
   "execution_count": 42,
   "metadata": {},
   "outputs": [],
   "source": [
    "#Twitter Stream Config\n",
    "twitter_stream = Stream(auth, KafkaPushListener())"
   ]
  },
  {
   "cell_type": "code",
   "execution_count": null,
   "metadata": {},
   "outputs": [],
   "source": [
    "result"
   ]
  },
  {
   "cell_type": "code",
   "execution_count": null,
   "metadata": {},
   "outputs": [],
   "source": [
    "def get_traffic():\n",
    "    fname=str(dt.datetime.now())[:19].replace(\":\",\"-\")\n",
    "    base=\"https://traffic.cit.api.here.com/traffic/6.2/flow.json\"+\\\n",
    "    \"?bbox=-6.077811,106.559667;-6.665355,107.146117\"+\\\n",
    "    \"&app_id=\"+app_id+\\\n",
    "    \"&app_code=\"+app_code+\\\n",
    "    \"&responseattributes=sh,fc\"\n",
    "    try:\n",
    "        gcontext = ssl.SSLContext(ssl.PROTOCOL_TLSv1)\n",
    "        response = urllib.request.urlopen(base,context=gcontext)\n",
    "        data=json.load(response)\n",
    "        with open(fname+\".p\", 'wb') as fp:\n",
    "            pickle.dump(data, fp, protocol=pickle.HIGHEST_PROTOCOL)\n",
    "        print (\"Success \"+fname)\n",
    "    except:\n",
    "        print (\"Failed \"+fname)"
   ]
  },
  {
   "cell_type": "code",
   "execution_count": null,
   "metadata": {},
   "outputs": [],
   "source": [
    "import requests\n",
    "import base64\n",
    "import json\n",
    "\n",
    "url = \"http://restproxy:8082/topics/my_topic\"\n",
    "headers = {\n",
    "    \"Content-Type\" : \"application/vnd.kafka.binary.v1 + json\",\n",
    "}\n",
    "\n",
    "# Create one or more messages\n",
    "payload = {\"records\":\n",
    "       [{\n",
    "           \"key\":base64.b64encode('firstkey'),\n",
    "           \"value\":base64.b64encode('firstvalue'),\n",
    "       }],\n",
    "}\n",
    "\n",
    "# Send the message\n",
    "r = requests.post(url, data=json.dumps(payload), headers=headers)\n",
    "if r.status_code != 200:\n",
    "   print(\"Status Code: \" + str(r.status_code))\n",
    "   print(r.text)"
   ]
  }
 ],
 "metadata": {
  "kernelspec": {
   "display_name": "Python 3",
   "language": "python",
   "name": "python3"
  },
  "language_info": {
   "codemirror_mode": {
    "name": "ipython",
    "version": 3
   },
   "file_extension": ".py",
   "mimetype": "text/x-python",
   "name": "python",
   "nbconvert_exporter": "python",
   "pygments_lexer": "ipython3",
   "version": "3.6.5"
  }
 },
 "nbformat": 4,
 "nbformat_minor": 2
}
