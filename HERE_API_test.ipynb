{
 "cells": [
  {
   "cell_type": "code",
   "execution_count": 3,
   "metadata": {},
   "outputs": [],
   "source": [
    "import pandas as pd\n",
    "import numpy as np\n",
    "import urllib.request\n",
    "import json\n",
    "import pickle\n",
    "import datetime as dt\n",
    "from apscheduler.schedulers.blocking import BlockingScheduler\n",
    "import ssl"
   ]
  },
  {
   "cell_type": "code",
   "execution_count": 6,
   "metadata": {},
   "outputs": [],
   "source": [
    "with open('credential.json') as f:\n",
    "    data = json.load(f)\n",
    "    app_id = data['app_id']\n",
    "    app_code = data['app_code']"
   ]
  },
  {
   "cell_type": "code",
   "execution_count": 8,
   "metadata": {},
   "outputs": [],
   "source": [
    "def get_traffic():\n",
    "    fname=str(dt.datetime.now())[:19].replace(\":\",\"-\")\n",
    "    base=\"https://traffic.cit.api.here.com/traffic/6.2/flow.json\"+\\\n",
    "    \"?bbox=-6.077811,106.559667;-6.665355,107.146117\"+\\\n",
    "    \"&app_id=\"+app_id+\\\n",
    "    \"&app_code=\"+app_code+\\\n",
    "    \"&responseattributes=sh,fc\"\n",
    "    try:\n",
    "        gcontext = ssl.SSLContext(ssl.PROTOCOL_TLSv1)\n",
    "        response = urllib2.urlopen(base,context=gcontext)\n",
    "        data=json.load(response)\n",
    "        with open(fname+\".p\", 'wb') as fp:\n",
    "            pickle.dump(data, fp, protocol=pickle.HIGHEST_PROTOCOL)\n",
    "        print (\"Success \"+fname)\n",
    "    except:\n",
    "        print (\"Failed \"+fname)"
   ]
  },
  {
   "cell_type": "code",
   "execution_count": 9,
   "metadata": {},
   "outputs": [
    {
     "name": "stdout",
     "output_type": "stream",
     "text": [
      "Failed 2019-10-21 21-19-35\n"
     ]
    }
   ],
   "source": [
    "get_traffic()"
   ]
  },
  {
   "cell_type": "code",
   "execution_count": null,
   "metadata": {},
   "outputs": [],
   "source": [
    "\"https://traffic.api.here.com/traffic/6.1/flow.json?bbox=-6.077811%2C106.559667%3B-6.665355%2C107.146117&app_id=Bk5IzoJTnBpZTrShePMs&app_code=BEIB3j-bHJ-lV_PQaD5MTw\""
   ]
  }
 ],
 "metadata": {
  "kernelspec": {
   "display_name": "Python 3",
   "language": "python",
   "name": "python3"
  },
  "language_info": {
   "codemirror_mode": {
    "name": "ipython",
    "version": 3
   },
   "file_extension": ".py",
   "mimetype": "text/x-python",
   "name": "python",
   "nbconvert_exporter": "python",
   "pygments_lexer": "ipython3",
   "version": "3.6.5"
  }
 },
 "nbformat": 4,
 "nbformat_minor": 2
}
